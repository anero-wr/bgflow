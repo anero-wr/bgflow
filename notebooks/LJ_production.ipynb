{
 "cells": [
  {
   "cell_type": "code",
   "execution_count": null,
   "id": "f832d7c0",
   "metadata": {},
   "outputs": [],
   "source": [
    "%load_ext autoreload\n",
    "%autoreload 2"
   ]
  },
  {
   "cell_type": "code",
   "execution_count": null,
   "id": "d26cf369",
   "metadata": {},
   "outputs": [],
   "source": [
    "import torch\n",
    "import numpy as np\n",
    "import matplotlib.pyplot as plt\n",
    "import matplotlib as mpl\n",
    "import numpy as np\n",
    "from glob import glob"
   ]
  },
  {
   "cell_type": "code",
   "execution_count": null,
   "id": "d1e329d7",
   "metadata": {},
   "outputs": [],
   "source": [
    "fnames = glob('/home/ninarell/OneDrive/WF_GAN_FOR_GLASSES/LJ_CRYSTAL/T_0.700_box/dumplin/dump.npt_nose_T1.0_P0.*.lammpstrj')\n",
    "#fnames = fnames + glob('/home/ninarell/OneDrive/WF_GAN_FOR_GLASSES/LJ_CRYSTAL/T_0.700_box/dumplin/dump.npt_nose_T0.700_P0.0000020000.lammpstrj')\n",
    "#fnames = glob('/home/ninarell/OneDrive/WF_GAN_FOR_GLASSES/LJ_CRYSTAL/T_0.700_box/dumplin/dump.npt_nose_T1.0_P0.0000000000.lammpstrj')\n",
    "arrays = [np.loadtxt(f, skiprows=9)[:,2:5] for f in fnames]\n",
    "coordinates = np.array(arrays)\n",
    "temperature = float(1.00)\n",
    "side=3.\n",
    "dim = len(coordinates)\n",
    "n_particles = len(coordinates[0])\n",
    "spacial_dim = 3\n",
    "dim_ics = n_particles * spacial_dim\n",
    "coordinates=coordinates.reshape(len(arrays), dim_ics)"
   ]
  },
  {
   "cell_type": "code",
   "execution_count": null,
   "id": "79ddf7c0",
   "metadata": {},
   "outputs": [],
   "source": [
    "import torch\n",
    "\n",
    "device = \"cuda:0\" if torch.cuda.is_available() else \"cpu\"\n",
    "dtype = torch.float32\n",
    "\n",
    "# a context tensor to send data to the right device and dtype via '.to(ctx)'\n",
    "ctx = torch.zeros([], device=device, dtype=dtype)\n",
    "\n",
    "# a brief check if this module is the main executable (or imported)\n",
    "main = (__name__ == \"__main__\")"
   ]
  },
  {
   "cell_type": "code",
   "execution_count": null,
   "id": "bc0d3fdc",
   "metadata": {},
   "outputs": [],
   "source": [
    "import sys\n",
    "sys.path.insert(0, \"/home/ninarell/OneDrive/WF_GAN_FOR_GLASSES/B_GEN/bgflow\")\n",
    "import bgflow as bg"
   ]
  },
  {
   "cell_type": "code",
   "execution_count": null,
   "id": "ab1a941e",
   "metadata": {},
   "outputs": [],
   "source": [
    "from  bgflow.distribution.energy import LennardJonesPotentialPPP\n",
    "rm = 2**(1./6.)\n",
    "target = LennardJonesPotentialPPP(dim = dim_ics, n_particles = n_particles, side = side, oscillator = False, rm=rm, two_event_dims=False)"
   ]
  },
  {
   "cell_type": "code",
   "execution_count": null,
   "id": "0e80870c",
   "metadata": {},
   "outputs": [],
   "source": [
    "def plot_energy(coordinates, target):\n",
    "    xs = torch.Tensor(coordinates)\n",
    "    #xs = xs.view(-1,10,3)\n",
    "    energy = target.energy(xs).detach().numpy()\n",
    "    x=np.arange(1,len(energy)+1)\n",
    "\n",
    "    fig = plt.figure(figsize=(12, 4))\n",
    "    plt.subplot(1, 2, 1)\n",
    "    plt.plot(x, energy)\n",
    "\n",
    "    plt.subplot(1, 2, 2)\n",
    "    counts, bins = np.histogram(energy, density=True)\n",
    "    plt.yscale(\"log\")\n",
    "    plt.stairs(counts, bins)"
   ]
  },
  {
   "cell_type": "code",
   "execution_count": null,
   "id": "697547a0",
   "metadata": {},
   "outputs": [],
   "source": [
    "def save_energy(coordinates, target, step):\n",
    "    xs = torch.Tensor(coordinates)\n",
    "    #xs = xs.view(-1,10,3)\n",
    "    energy = target.energy(xs).detach().numpy()\n",
    "    x=np.arange(1,len(energy)+1)\n",
    "\n",
    "    fig = plt.figure(figsize=(12, 4))\n",
    "    plt.subplot(1, 2, 1)\n",
    "    plt.plot(x, energy)\n",
    "\n",
    "    plt.subplot(1, 2, 2)\n",
    "    counts, bins = np.histogram(energy, density=True)\n",
    "    plt.yscale(\"log\")\n",
    "    plt.stairs(counts, bins)\n",
    "    \n",
    "    filename = '/home/ninarell/Desktop/FIG_ENERGY/fig_'+str(step)+\".png\"\n",
    "    fig.savefig(filename, dpi=fig.dpi, format='png')\n",
    "    plt.close()"
   ]
  },
  {
   "cell_type": "code",
   "execution_count": null,
   "id": "e239861c",
   "metadata": {},
   "outputs": [],
   "source": [
    "plot_energy(coordinates, target)"
   ]
  },
  {
   "cell_type": "code",
   "execution_count": null,
   "id": "20e2311f",
   "metadata": {},
   "outputs": [],
   "source": [
    "from bgflow import NormalDistribution, TruncatedNormalDistribution\n",
    "\n",
    "mean = torch.Tensor(coordinates[50]).view(dim_ics)\n",
    "cov = torch.zeros(dim_ics, dim_ics)\n",
    "cov = cov.fill_diagonal_(0.00002)\n",
    "\n",
    "prior = NormalDistribution(dim_ics, mean=mean, cov=cov)\n",
    "\n",
    "#upper_bound=torch.ones(dim_ics)*side\n",
    "#lower_bound=-upper_bound\n",
    "#sigma=torch.ones(dim_ics)*0.002\n",
    "#print(upper_bound.shape, lower_bound.shape, sigma.shape, mean.shape )\n",
    "#prior = TruncatedNormalDistribution(mu=mean, sigma=sigma, lower_bound=lower_bound, upper_bound=upper_bound)"
   ]
  },
  {
   "cell_type": "code",
   "execution_count": null,
   "id": "489d18f7",
   "metadata": {},
   "outputs": [],
   "source": [
    "data_prior = prior._sample_with_temperature(10000, temperature=temperature)\n",
    "#data_prior = data_prior.view(-1, 10, 3)\n",
    "plot_energy(data_prior, target)"
   ]
  },
  {
   "cell_type": "code",
   "execution_count": null,
   "id": "f656058f",
   "metadata": {},
   "outputs": [],
   "source": [
    "# define a MCMC sampler to sample from the target energy\n",
    "\n",
    "from bgflow import GaussianMCMCSampler, LatentGaussianMCMCSampler\n",
    "\n",
    "init_state = torch.Tensor(coordinates[10])\n",
    "init_state.shape"
   ]
  },
  {
   "cell_type": "code",
   "execution_count": null,
   "id": "787a6a48",
   "metadata": {},
   "outputs": [],
   "source": [
    "def constraint(x):\n",
    "    return torch.where((abs(x) > side).clone().detach(), x - 2 * side * torch.sign(x) * torch.floor(abs(x)/side) , x)"
   ]
  },
  {
   "cell_type": "code",
   "execution_count": null,
   "id": "982fd4d7",
   "metadata": {},
   "outputs": [],
   "source": [
    "from bgflow.utils.types import is_list_or_tuple\n",
    "from bgflow.utils.types import assert_numpy\n",
    "\n",
    "class LossReporter:\n",
    "    \"\"\"\n",
    "        Simple reporter use for reporting losses and plotting them.\n",
    "    \"\"\"\n",
    "    \n",
    "    def __init__(self, *labels):\n",
    "        self._labels = labels\n",
    "        self._n_reported = len(labels)\n",
    "        self._raw = [[] for _ in range(self._n_reported)]\n",
    "    \n",
    "    def report(self, *losses):\n",
    "        assert len(losses) == self._n_reported\n",
    "        for i in range(self._n_reported):\n",
    "            self._raw[i].append(assert_numpy(losses[i]))\n",
    "    \n",
    "    def plot(self, n_smooth=10):\n",
    "        fig, axes = plt.subplots(self._n_reported, sharex=True)\n",
    "        if not isinstance(axes, np.ndarray):\n",
    "            axes = [axes]\n",
    "        fig.set_size_inches((8, 4 * self._n_reported), forward=True)\n",
    "        for i, (label, raw, axis) in enumerate(zip(self._labels, self._raw, axes)):\n",
    "            raw = assert_numpy(raw).reshape(-1)\n",
    "            kernel = np.ones(shape=(n_smooth,)) / n_smooth\n",
    "            smoothed = np.convolve(raw, kernel, mode=\"valid\")\n",
    "            axis.plot(smoothed)\n",
    "            axis.set_xscale(\"log\")\n",
    "            axis.set_ylabel(label)\n",
    "            if i == self._n_reported - 1:\n",
    "                axis.set_xlabel(\"Iteration\")\n",
    "                \n",
    "    def recent(self, n_recent=1):\n",
    "        return np.array([raw[-n_recent:] for raw in self._raw])"
   ]
  },
  {
   "cell_type": "code",
   "execution_count": null,
   "id": "b46cf94c",
   "metadata": {},
   "outputs": [],
   "source": [
    "# define a flow with RNVP coupling layers\n",
    "\n",
    "from bgflow.nn import (\n",
    "    DenseNet,\n",
    "    SequentialFlow, \n",
    "    CouplingFlow, \n",
    "    AffineFlow, \n",
    "    SplitFlow, \n",
    "    InverseFlow, \n",
    "    SwapFlow,\n",
    "    AffineTransformer\n",
    ")\n",
    "\n",
    "\n",
    "\n",
    "# here we aggregate all layers of the flow\n",
    "layers = []\n",
    "\n",
    "# start with a splitting layer which splits the input tensor into two \n",
    "# flow channels with tensors of half dimensionality\n",
    "layers.append(SplitFlow( dim_ics//2 , dim=1))\n",
    "#layers.append(SplitFlow( n_particles//2 , dim=1))\n",
    "\n",
    "# now add coupling layers\n",
    "n_coupling_layers = 4\n",
    "for _ in range(n_coupling_layers):\n",
    "    \n",
    "    # we need to swap dimensions for the mixing\n",
    "    layers.append(SwapFlow())\n",
    "    \n",
    "    # now set up a coupling block\n",
    "    layers.append(CouplingFlow(\n",
    "        # we use a affine transformation to transform the RHS conditioned on the LHS\n",
    "        AffineTransformer(\n",
    "            # use simple dense nets for the affine shift/scale\n",
    "            shift_transformation=DenseNet([dim_ics//2, 100, 100, dim_ics//2], activation=torch.nn.ReLU()),\n",
    "            scale_transformation=DenseNet([dim_ics//2, 100, 100, dim_ics//2], activation=torch.nn.ReLU())\n",
    "            #shift_transformation=DenseNet([n_particles//2, 100, 100, n_particles//2], activation=torch.nn.ReLU()),\n",
    "            #scale_transformation=DenseNet([n_particles//2, 100, 100, n_particles//2], activation=torch.nn.ReLU())\n",
    "        )\n",
    "    ))\n",
    "    \n",
    "# finally, we have to merge the two channels again into one tensor\n",
    "layers.append(InverseFlow(SplitFlow( dim_ics//2 , dim=1)))\n",
    "    \n",
    "# now define the flow as a sequence of all operations stored in layers\n",
    "flow = SequentialFlow(layers)"
   ]
  },
  {
   "cell_type": "code",
   "execution_count": null,
   "id": "6f86a84e",
   "metadata": {},
   "outputs": [],
   "source": [
    "# having a flow and a prior, we can now define a Boltzmann Generator\n",
    "\n",
    "from bgflow import BoltzmannGenerator\n",
    "\n",
    "bg = BoltzmannGenerator(prior, flow, target)"
   ]
  },
  {
   "cell_type": "code",
   "execution_count": null,
   "id": "98e0226a",
   "metadata": {},
   "outputs": [],
   "source": [
    "#bg._flow[8].transformer._shift_transformation._layers"
   ]
  },
  {
   "cell_type": "code",
   "execution_count": null,
   "id": "8d8e07a2",
   "metadata": {},
   "outputs": [],
   "source": [
    "sample_before = bg.sample(500, temperature=temperature)\n",
    "plot_energy(sample_before , target)"
   ]
  },
  {
   "cell_type": "code",
   "execution_count": null,
   "id": "747bebd6",
   "metadata": {},
   "outputs": [],
   "source": [
    "# initial training with likelihood maximization on data set\n",
    "\n",
    "from bgflow.utils.train import IndexBatchIterator\n",
    "\n",
    "n_batch = 10\n",
    "batch_iter = IndexBatchIterator(len(data_prior), n_batch)\n",
    "\n",
    "optim = torch.optim.Adam(bg.parameters(), lr=5e-3)\n",
    "\n",
    "n_epochs = 3\n",
    "n_report_steps = 50\n",
    "\n",
    "reporter = LossReporter(\"NLL\")"
   ]
  },
  {
   "cell_type": "code",
   "execution_count": null,
   "id": "1a9e1cb4",
   "metadata": {},
   "outputs": [],
   "source": [
    "for epoch in range(n_epochs):\n",
    "    for it, idxs in enumerate(batch_iter):\n",
    "        #print(it, idxs, len(data))\n",
    "\n",
    "        batch = data_prior[idxs]\n",
    "        #print(idxs, batch, \"\\n\\n\")\n",
    "        optim.zero_grad()\n",
    "        \n",
    "        # negative log-likelihood of the batch is equal to the energy of the BG\n",
    "        nll = bg.energy(batch, temperature=temperature).mean()\n",
    "        nll.backward()\n",
    "        \n",
    "        reporter.report(nll)\n",
    "        \n",
    "        optim.step()\n",
    "        \n",
    "        if it % n_report_steps == 0:\n",
    "            print(\"\\repoch: {0}, iter: {1}/{2}, NLL: {3:.4}\".format(\n",
    "                    epoch,\n",
    "                    it,\n",
    "                    len(batch_iter),\n",
    "                    *reporter.recent(1).ravel()\n",
    "                ), end=\"\")\n",
    "        \n"
   ]
  },
  {
   "cell_type": "code",
   "execution_count": null,
   "id": "e3b859ac",
   "metadata": {},
   "outputs": [],
   "source": [
    "reporter.plot()"
   ]
  },
  {
   "cell_type": "code",
   "execution_count": null,
   "id": "3787c431",
   "metadata": {},
   "outputs": [],
   "source": [
    "sample = bg.sample(500, temperature=temperature)"
   ]
  },
  {
   "cell_type": "code",
   "execution_count": null,
   "id": "bd095f8b",
   "metadata": {},
   "outputs": [],
   "source": [
    "plot_energy(sample, target)"
   ]
  },
  {
   "cell_type": "code",
   "execution_count": null,
   "id": "5a3a1dbe",
   "metadata": {},
   "outputs": [],
   "source": [
    "from bgflow import LatentGaussianMCMCSampler"
   ]
  },
  {
   "cell_type": "code",
   "execution_count": null,
   "id": "57d935ae",
   "metadata": {},
   "outputs": [],
   "source": [
    "# train with convex mixture of NLL and KL loss\n",
    "\n",
    "from bgflow.utils.train import IndexBatchIterator\n",
    "\n",
    "n_kl_samples = 10\n",
    "n_batch = 10\n",
    "batch_iter = IndexBatchIterator(len(data_prior), n_batch)\n",
    "\n",
    "optim = torch.optim.Adam(bg.parameters(), lr=3e-6)\n",
    "\n",
    "n_epochs = 10\n",
    "n_report_steps = 5\n",
    "\n",
    "# mixing parameter\n",
    "lambdas = torch.linspace(1., 0.5, n_epochs)\n",
    "\n",
    "reporter = LossReporter(\"NLL\", \"KLL\")"
   ]
  },
  {
   "cell_type": "code",
   "execution_count": null,
   "id": "ecc1e409",
   "metadata": {},
   "outputs": [],
   "source": [
    "for epoch, lamb in enumerate(lambdas):\n",
    "    for it, idxs in enumerate(batch_iter):\n",
    "        batch = data_prior[idxs]\n",
    "        \n",
    "        optim.zero_grad()\n",
    "        \n",
    "        # negative log-likelihood of the batch is equal to the energy of the BG\n",
    "        nll = bg.energy(batch).mean()\n",
    "        \n",
    "        # aggregate weighted gradient\n",
    "        (lamb * nll).backward()\n",
    "        \n",
    "        # kl divergence to the target\n",
    "        kll = bg.kldiv(n_kl_samples).mean()\n",
    "\n",
    "        # aggregate weighted gradient\n",
    "        ((1. - lamb) * kll).backward()\n",
    "        \n",
    "        reporter.report(nll, kll)\n",
    "        \n",
    "        optim.step()\n",
    "        \n",
    "        if it % n_report_steps == 0:\n",
    "            print(\"\\repoch: {0}, iter: {1}/{2}, lambda: {3}, NLL: {4:.4}, KLL: {5:.4}\".format(\n",
    "                    epoch,\n",
    "                    it,\n",
    "                    len(batch_iter),\n",
    "                    lamb,\n",
    "                    *reporter.recent(1).ravel()\n",
    "                ), end=\"\")\n",
    "            \n",
    "            \n",
    "        for i in range(len(batch)):\n",
    "            sample  = batch[i:i+1]\n",
    "            latent_sampler = LatentGaussianMCMCSampler(target, flow=flow, init_state=sample,temperature=temperature, noise_std=0.01)\n",
    "            for j in range(1):\n",
    "                 sample = latent_sampler.sample(1)\n",
    "                    \n",
    "            if torch.any(sample.isnan()):\n",
    "                print(sample, batch[i:i+1])\n",
    "            real_sample = bg.sample(1, temperature=temperature)\n",
    "            if torch.any(real_sample.isnan()):\n",
    "                print(sample, batch[i:i+1], real_sample)\n",
    "                \n",
    "            batch[i:i+1] = sample\n",
    "        data_prior[idxs] = batch\n",
    "    samples = bg.sample(2000, temperature=temperature)\n",
    "    save_energy(samples, target, str(epoch)+\"_\"+str(lamb))\n",
    "    "
   ]
  },
  {
   "cell_type": "code",
   "execution_count": null,
   "id": "c4ac47e1",
   "metadata": {},
   "outputs": [],
   "source": [
    "reporter.plot()"
   ]
  },
  {
   "cell_type": "code",
   "execution_count": null,
   "id": "1bad2f02",
   "metadata": {},
   "outputs": [],
   "source": [
    "samples = bg.sample(2000, temperature=temperature)\n",
    "plot_energy(samples,target)"
   ]
  }
 ],
 "metadata": {
  "kernelspec": {
   "display_name": "bg",
   "language": "python",
   "name": "bg"
  },
  "language_info": {
   "codemirror_mode": {
    "name": "ipython",
    "version": 3
   },
   "file_extension": ".py",
   "mimetype": "text/x-python",
   "name": "python",
   "nbconvert_exporter": "python",
   "pygments_lexer": "ipython3",
   "version": "3.10.12"
  }
 },
 "nbformat": 4,
 "nbformat_minor": 5
}
